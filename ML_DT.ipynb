{
 "cells": [
  {
   "cell_type": "markdown",
   "metadata": {},
   "source": [
    "## DTree（决策树）\n",
    "\n",
    "### 决策树的优点\n",
    "\n",
    "- 易于理解和解释，树可以可视化。\n",
    "- 几乎不需要数据预处理。其他方法经常需要数据标准化，创建虚拟变量和删除缺失值。决策树还不支持缺失值。\n",
    "- 使用树的花费（例如预测数据）是训练数据点(data points)数量的对数。\n",
    "- 可以同时处理数值变量和分类变量。其他方法大都适用于分析一种变量的集合。\n",
    "- 可以处理多值输出变量问题。\n",
    "- 使用白盒模型。如果一个情况被观察到，使用逻辑判断容易表示这种规则。相反，如果是黑盒模型（例如人工神经网络），结果会非常难解释。\n",
    "- 可以使用统计检验检验模型。这样做被认为是提高模型的可行度。\n",
    "- 即使对真实模型来说，假设无效的情况下，也可以较好的适用。\n",
    "\n",
    "### 决策树的缺点\n",
    "\n",
    "- 决策树学习可能创建一个过于复杂的树，并不能很好的预测数据。也就是过拟合。修剪机制（现在不支持），设置一个叶子节点需要的最小样本数量，或者数的最大深度，可以避免过拟合。\n",
    "- 决策树可能是不稳定的，因为即使非常小的变异，可能会产生一颗完全不同的树。这个问题通过decision trees with an ensemble来缓解。\n",
    "- 学习一颗最优的决策树是一个NP-完全问题under several aspects of optimality and even for simple concepts。因此，传统决策树算法基于启发式算法，例如贪婪算法，即每个节点创建最优决策。这些算法不能产生一个全家最优的决策树。对样本和特征随机抽样可以降低整体效果偏差。\n",
    "- 概念难以学习，因为决策树没有很好的解释他们，例如，XOR, parity or multiplexer problems.\n",
    "- 如果某些分类占优势，决策树将会创建一棵有偏差的树。因此，建议在训练之前，先抽样使样本均衡。"
   ]
  },
  {
   "cell_type": "markdown",
   "metadata": {},
   "source": [
    "### 问题描述\n",
    "\n",
    "本节使用的数据为某隐形眼镜店的数据集，该数据集有四个特征值，分别为\n",
    "\n",
    "- age\n",
    "- prescript\n",
    "- astigmatic\n",
    "- tearRate\n",
    "\n",
    "问题要求根据上述四个特征来预测隐形眼镜的类型，分别为\n",
    "\n",
    "- no lenses\n",
    "- soft\n",
    "- hard"
   ]
  },
  {
   "cell_type": "markdown",
   "metadata": {},
   "source": [
    "### 示例说明\n",
    "\n",
    "本节演示了\n",
    "\n",
    "- 枚举特征值的处理\n",
    "- 分类标签的数值化\n",
    "- 数据集分割为训练集和测试集\n",
    "- DT模型的训练与预测\n",
    "- 决策树的可视化绘制"
   ]
  },
  {
   "cell_type": "code",
   "execution_count": 1,
   "metadata": {},
   "outputs": [
    {
     "data": {
      "text/html": [
       "<div>\n",
       "<style scoped>\n",
       "    .dataframe tbody tr th:only-of-type {\n",
       "        vertical-align: middle;\n",
       "    }\n",
       "\n",
       "    .dataframe tbody tr th {\n",
       "        vertical-align: top;\n",
       "    }\n",
       "\n",
       "    .dataframe thead th {\n",
       "        text-align: right;\n",
       "    }\n",
       "</style>\n",
       "<table border=\"1\" class=\"dataframe\">\n",
       "  <thead>\n",
       "    <tr style=\"text-align: right;\">\n",
       "      <th></th>\n",
       "      <th>age</th>\n",
       "      <th>prescript</th>\n",
       "      <th>astigmatic</th>\n",
       "      <th>tearRate</th>\n",
       "      <th>lensesLabels</th>\n",
       "    </tr>\n",
       "  </thead>\n",
       "  <tbody>\n",
       "    <tr>\n",
       "      <th>0</th>\n",
       "      <td>young</td>\n",
       "      <td>myope</td>\n",
       "      <td>no</td>\n",
       "      <td>reduced</td>\n",
       "      <td>no lenses</td>\n",
       "    </tr>\n",
       "    <tr>\n",
       "      <th>1</th>\n",
       "      <td>young</td>\n",
       "      <td>myope</td>\n",
       "      <td>no</td>\n",
       "      <td>normal</td>\n",
       "      <td>soft</td>\n",
       "    </tr>\n",
       "    <tr>\n",
       "      <th>2</th>\n",
       "      <td>young</td>\n",
       "      <td>myope</td>\n",
       "      <td>yes</td>\n",
       "      <td>reduced</td>\n",
       "      <td>no lenses</td>\n",
       "    </tr>\n",
       "    <tr>\n",
       "      <th>3</th>\n",
       "      <td>young</td>\n",
       "      <td>myope</td>\n",
       "      <td>yes</td>\n",
       "      <td>normal</td>\n",
       "      <td>hard</td>\n",
       "    </tr>\n",
       "    <tr>\n",
       "      <th>4</th>\n",
       "      <td>young</td>\n",
       "      <td>hyper</td>\n",
       "      <td>no</td>\n",
       "      <td>reduced</td>\n",
       "      <td>no lenses</td>\n",
       "    </tr>\n",
       "    <tr>\n",
       "      <th>5</th>\n",
       "      <td>young</td>\n",
       "      <td>hyper</td>\n",
       "      <td>no</td>\n",
       "      <td>normal</td>\n",
       "      <td>soft</td>\n",
       "    </tr>\n",
       "    <tr>\n",
       "      <th>6</th>\n",
       "      <td>young</td>\n",
       "      <td>hyper</td>\n",
       "      <td>yes</td>\n",
       "      <td>reduced</td>\n",
       "      <td>no lenses</td>\n",
       "    </tr>\n",
       "    <tr>\n",
       "      <th>7</th>\n",
       "      <td>young</td>\n",
       "      <td>hyper</td>\n",
       "      <td>yes</td>\n",
       "      <td>normal</td>\n",
       "      <td>hard</td>\n",
       "    </tr>\n",
       "    <tr>\n",
       "      <th>8</th>\n",
       "      <td>pre</td>\n",
       "      <td>myope</td>\n",
       "      <td>no</td>\n",
       "      <td>reduced</td>\n",
       "      <td>no lenses</td>\n",
       "    </tr>\n",
       "    <tr>\n",
       "      <th>9</th>\n",
       "      <td>pre</td>\n",
       "      <td>myope</td>\n",
       "      <td>no</td>\n",
       "      <td>normal</td>\n",
       "      <td>soft</td>\n",
       "    </tr>\n",
       "  </tbody>\n",
       "</table>\n",
       "</div>"
      ],
      "text/plain": [
       "     age prescript astigmatic tearRate lensesLabels\n",
       "0  young     myope         no  reduced    no lenses\n",
       "1  young     myope         no   normal         soft\n",
       "2  young     myope        yes  reduced    no lenses\n",
       "3  young     myope        yes   normal         hard\n",
       "4  young     hyper         no  reduced    no lenses\n",
       "5  young     hyper         no   normal         soft\n",
       "6  young     hyper        yes  reduced    no lenses\n",
       "7  young     hyper        yes   normal         hard\n",
       "8    pre     myope         no  reduced    no lenses\n",
       "9    pre     myope         no   normal         soft"
      ]
     },
     "execution_count": 1,
     "metadata": {},
     "output_type": "execute_result"
    }
   ],
   "source": [
    "from pandas import DataFrame, read_table\n",
    "import pandas as pd\n",
    "\n",
    "df = pd.read_table('/home/pytest/MLaction/Ch03_DT/lenses.txt', \n",
    "                   sep='\\t', names=['age','prescript','astigmatic','tearRate', 'lensesLabels'], \n",
    "                   encoding='utf-8', engine='python')\n",
    "df[0:10]"
   ]
  },
  {
   "cell_type": "code",
   "execution_count": 2,
   "metadata": {},
   "outputs": [
    {
     "data": {
      "text/plain": [
       "Index([u'hard', u'no lenses', u'soft'], dtype='object')"
      ]
     },
     "execution_count": 2,
     "metadata": {},
     "output_type": "execute_result"
    }
   ],
   "source": [
    "target_name = pd.Categorical(df['lensesLabels']).categories\n",
    "target_name"
   ]
  },
  {
   "cell_type": "code",
   "execution_count": 3,
   "metadata": {},
   "outputs": [
    {
     "data": {
      "text/html": [
       "<div>\n",
       "<style scoped>\n",
       "    .dataframe tbody tr th:only-of-type {\n",
       "        vertical-align: middle;\n",
       "    }\n",
       "\n",
       "    .dataframe tbody tr th {\n",
       "        vertical-align: top;\n",
       "    }\n",
       "\n",
       "    .dataframe thead th {\n",
       "        text-align: right;\n",
       "    }\n",
       "</style>\n",
       "<table border=\"1\" class=\"dataframe\">\n",
       "  <thead>\n",
       "    <tr style=\"text-align: right;\">\n",
       "      <th></th>\n",
       "      <th>age_transfer</th>\n",
       "      <th>prescript_transfer</th>\n",
       "      <th>astigmatic_transfer</th>\n",
       "      <th>tearRate_transfer</th>\n",
       "      <th>lensesLabels_transfer</th>\n",
       "    </tr>\n",
       "  </thead>\n",
       "  <tbody>\n",
       "    <tr>\n",
       "      <th>0</th>\n",
       "      <td>2</td>\n",
       "      <td>1</td>\n",
       "      <td>0</td>\n",
       "      <td>1</td>\n",
       "      <td>1</td>\n",
       "    </tr>\n",
       "  </tbody>\n",
       "</table>\n",
       "</div>"
      ],
      "text/plain": [
       "   age_transfer  prescript_transfer  astigmatic_transfer  tearRate_transfer  \\\n",
       "0             2                   1                    0                  1   \n",
       "\n",
       "   lensesLabels_transfer  \n",
       "0                      1  "
      ]
     },
     "execution_count": 3,
     "metadata": {},
     "output_type": "execute_result"
    }
   ],
   "source": [
    "df['age_transfer'] = pd.Categorical(df['age']).codes\n",
    "df['prescript_transfer'] = pd.Categorical(df['prescript']).codes\n",
    "df['astigmatic_transfer'] = pd.Categorical(df['astigmatic']).codes\n",
    "df['tearRate_transfer'] = pd.Categorical(df['tearRate']).codes\n",
    "df['lensesLabels_transfer'] = pd.Categorical(df['lensesLabels']).codes\n",
    "\n",
    "df.drop(['age','prescript','astigmatic','tearRate', 'lensesLabels'], axis=1, inplace=True)\n",
    "\n",
    "df[0:1]"
   ]
  },
  {
   "cell_type": "code",
   "execution_count": 4,
   "metadata": {},
   "outputs": [],
   "source": [
    "# DecisionTree Classifier  \n",
    "def dt_classifier(train_x, train_y):  \n",
    "    from sklearn.tree import DecisionTreeClassifier  \n",
    "    model = DecisionTreeClassifier()  \n",
    "    model.fit(train_x, train_y)  \n",
    "    return model"
   ]
  },
  {
   "cell_type": "code",
   "execution_count": 5,
   "metadata": {},
   "outputs": [
    {
     "name": "stderr",
     "output_type": "stream",
     "text": [
      "/usr/local/anaconda2/lib/python2.7/site-packages/sklearn/cross_validation.py:41: DeprecationWarning: This module was deprecated in version 0.18 in favor of the model_selection module into which all the refactored classes and functions are moved. Also note that the interface of the new CV iterators are different from that of this module. This module will be removed in 0.20.\n",
      "  \"This module will be removed in 0.20.\", DeprecationWarning)\n"
     ]
    }
   ],
   "source": [
    "from sklearn import cross_validation\n",
    "\n",
    "# 训练集和测试集切分\n",
    "train, test = cross_validation.train_test_split(df, test_size=0.2)\n",
    "\n",
    "# 属性集合和标签集合切分\n",
    "train_x = train.as_matrix()[:,:-1]\n",
    "train_y = train.as_matrix()[:,-1]\n",
    "\n",
    "test_x = test.as_matrix()[:,:-1]\n",
    "test_y = test.as_matrix()[:,-1]"
   ]
  },
  {
   "cell_type": "code",
   "execution_count": 6,
   "metadata": {},
   "outputs": [
    {
     "name": "stdout",
     "output_type": "stream",
     "text": [
      "******************** Data Info *********************\n",
      "#training data: 19, #testing_data: 5, dimension: 4\n",
      "training took 0.009817s!\n",
      "accuracy: 40.00%\n"
     ]
    }
   ],
   "source": [
    "import numpy as np\n",
    "import time\n",
    "from sklearn import metrics\n",
    "\n",
    "num_train, num_feat = train_x.shape  \n",
    "num_test, num_feat = test_x.shape\n",
    "\n",
    "# 判断标签是否为0-1标签\n",
    "is_binary_class = (len(np.unique(train_y)) == 2)\n",
    "\n",
    "print '******************** Data Info *********************'  \n",
    "print '#training data: %d, #testing_data: %d, dimension: %d' % (num_train, num_test, num_feat)  \n",
    "      \n",
    "start_time = time.time()\n",
    "model = dt_classifier(train_x, train_y)  \n",
    "print 'training took %fs!' % (time.time() - start_time)  \n",
    "\n",
    "predict = model.predict(test_x)  \n",
    "\n",
    "# 对于0-1标签，可以计算其精确率和召回率\n",
    "if is_binary_class:  \n",
    "    precision = metrics.precision_score(test_y, predict)  \n",
    "    recall = metrics.recall_score(test_y, predict)  \n",
    "    print 'precision: %.2f%%, recall: %.2f%%' % (100 * precision, 100 * recall)\n",
    "    \n",
    "# 计算准确率\n",
    "accuracy = metrics.accuracy_score(test_y, predict)  \n",
    "print 'accuracy: %.2f%%' % (100 * accuracy)"
   ]
  },
  {
   "cell_type": "code",
   "execution_count": 7,
   "metadata": {},
   "outputs": [
    {
     "data": {
      "image/png": "[encoded data removed]",
      "text/plain": [
       "<IPython.core.display.Image object>"
      ]
     },
     "execution_count": 7,
     "metadata": {},
     "output_type": "execute_result"
    }
   ],
   "source": [
    "from sklearn.externals.six import StringIO\n",
    "from sklearn import tree\n",
    "from IPython.display import Image\n",
    "import pydot\n",
    "\n",
    "dot_data = StringIO()  \n",
    "tree.export_graphviz(model, out_file=dot_data,  \n",
    "                     feature_names=['age','prescript','astigmatic','tearRate'],  \n",
    "                     class_names=target_name,  \n",
    "                     filled=True, rounded=True,  \n",
    "                     special_characters=True)  \n",
    "graph = pydot.graph_from_dot_data(dot_data.getvalue())  \n",
    "Image(graph[0].create_png())\n",
    "#graph[0].write_pdf(\"test.pdf\")"
   ]
  },
  {
   "cell_type": "code",
   "execution_count": null,
   "metadata": {},
   "outputs": [],
   "source": []
  }
 ],
 "metadata": {
  "kernelspec": {
   "display_name": "Python 2",
   "language": "python",
   "name": "python2"
  },
  "language_info": {
   "codemirror_mode": {
    "name": "ipython",
    "version": 2
   },
   "file_extension": ".py",
   "mimetype": "text/x-python",
   "name": "python",
   "nbconvert_exporter": "python",
   "pygments_lexer": "ipython2",
   "version": "2.7.14"
  },
  "toc": {
   "base_numbering": 1,
   "nav_menu": {},
   "number_sections": true,
   "sideBar": true,
   "skip_h1_title": false,
   "title_cell": "Table of Contents",
   "title_sidebar": "Contents",
   "toc_cell": false,
   "toc_position": {},
   "toc_section_display": true,
   "toc_window_display": false
  }
 },
 "nbformat": 4,
 "nbformat_minor": 2
}
