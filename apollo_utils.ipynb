{
 "cells": [
  {
   "cell_type": "code",
   "execution_count": 1,
   "metadata": {},
   "outputs": [],
   "source": [
    "def save_notebook():\n",
    "    from IPython.display import display, Javascript\n",
    "    return display(Javascript(\"IPython.notebook.save_notebook()\"),\n",
    "                   include=['application/javascript'])\n",
    "\n",
    "def output_HTML(read_file, output_file):\n",
    "    from nbconvert import HTMLExporter\n",
    "    import codecs\n",
    "    import nbformat\n",
    "    exporter = HTMLExporter()\n",
    "    exporter.exclude_input = True\n",
    "    exporter.exclude_input_prompt = True\n",
    "    exporter.exclude_output_prompt = True\n",
    "    # read_file is '.ipynb', output_file is '.html'\n",
    "    output_notebook = nbformat.read(read_file, as_version=4)\n",
    "    output, resources = exporter.from_notebook_node(output_notebook)\n",
    "    codecs.open(output_file, 'w', encoding='utf-8').write(output)\n",
    "    \n",
    "def output_PNG(read_file):\n",
    "    import time\n",
    "    import os\n",
    "    currtime = time.strftime('%Y%m%d%H%M%S',time.localtime(time.time()))\n",
    "    os.environ['currtime'] = currtime\n",
    "    os.environ['readfile'] = read_file\n",
    "    !jupyter nbconvert $readfile --to latex\n",
    "    !mv kaggle-titanic_files $currtime\n",
    "    !rm kaggle-titanic.tex"
   ]
  },
  {
   "cell_type": "code",
   "execution_count": null,
   "metadata": {},
   "outputs": [],
   "source": []
  }
 ],
 "metadata": {
  "kernelspec": {
   "display_name": "Python 2",
   "language": "python",
   "name": "python2"
  },
  "language_info": {
   "codemirror_mode": {
    "name": "ipython",
    "version": 2
   },
   "file_extension": ".py",
   "mimetype": "text/x-python",
   "name": "python",
   "nbconvert_exporter": "python",
   "pygments_lexer": "ipython2",
   "version": "2.7.14"
  },
  "toc": {
   "base_numbering": 1,
   "nav_menu": {},
   "number_sections": true,
   "sideBar": true,
   "skip_h1_title": false,
   "title_cell": "Table of Contents",
   "title_sidebar": "Contents",
   "toc_cell": false,
   "toc_position": {},
   "toc_section_display": true,
   "toc_window_display": false
  }
 },
 "nbformat": 4,
 "nbformat_minor": 2
}
