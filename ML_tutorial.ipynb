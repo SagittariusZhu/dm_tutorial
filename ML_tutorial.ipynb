{
 "cells": [
  {
   "cell_type": "markdown",
   "metadata": {},
   "source": [
    "## KNN\n",
    "\n",
    "- k-近邻算法采用测量不同特征值之间的距离方法进行分类。\n",
    "- 优点：精度高、对异常值不敏感、无数据输入假定\n",
    "- 缺点：计算复杂度高、空间复杂度高\n",
    "- 适用数据范围：数值型和标称型"
   ]
  },
  {
   "cell_type": "markdown",
   "metadata": {},
   "source": [
    "存在一个训练样本集，并且每个样本都存在标签（有监督学习）。输入没有标签的新样本数据后，将新数据的每个特征与样本集中数据对应的特征进行比较，然后算法提取出与样本集中特征最相似的数据（最近邻）的分类标签。一般来说，我们只选择样本数据集中前k个最相似的数据，这就是k-近邻算法中k的出处，而且k通常不大于20。最后选择k个最相似数据中出现次数最多的分类，作为新数据的分类。"
   ]
  },
  {
   "cell_type": "code",
   "execution_count": 42,
   "metadata": {},
   "outputs": [],
   "source": [
    "# Import all libraries needed for the tutorial\n",
    "\n",
    "# General syntax to import specific functions in a library: \n",
    "##from (library) import (specific library function)\n",
    "from pandas import DataFrame, read_table\n",
    "\n",
    "# General syntax to import a library but no functions: \n",
    "##import (library) as (give the library a nickname/alias)\n",
    "import matplotlib.pyplot as plt\n",
    "import pandas as pd #this is how I usually import pandas\n",
    "import sys #only needed to determine Python version number\n",
    "import matplotlib #only needed to determine Matplotlib version number\n",
    "\n",
    "# Enable inline plotting\n",
    "%matplotlib inline"
   ]
  },
  {
   "cell_type": "markdown",
   "metadata": {},
   "source": [
    "读取TXT文件，各个字段之间使用空格分割，为每个字段设置一个name，生成dataframe"
   ]
  },
  {
   "cell_type": "code",
   "execution_count": 43,
   "metadata": {},
   "outputs": [
    {
     "data": {
      "text/html": [
       "<div>\n",
       "<style scoped>\n",
       "    .dataframe tbody tr th:only-of-type {\n",
       "        vertical-align: middle;\n",
       "    }\n",
       "\n",
       "    .dataframe tbody tr th {\n",
       "        vertical-align: top;\n",
       "    }\n",
       "\n",
       "    .dataframe thead th {\n",
       "        text-align: right;\n",
       "    }\n",
       "</style>\n",
       "<table border=\"1\" class=\"dataframe\">\n",
       "  <thead>\n",
       "    <tr style=\"text-align: right;\">\n",
       "      <th></th>\n",
       "      <th>miles</th>\n",
       "      <th>gameUsed</th>\n",
       "      <th>iceCream</th>\n",
       "      <th>fitness</th>\n",
       "    </tr>\n",
       "  </thead>\n",
       "  <tbody>\n",
       "    <tr>\n",
       "      <th>0</th>\n",
       "      <td>40920</td>\n",
       "      <td>8.326976</td>\n",
       "      <td>0.953952</td>\n",
       "      <td>largeDoses</td>\n",
       "    </tr>\n",
       "  </tbody>\n",
       "</table>\n",
       "</div>"
      ],
      "text/plain": [
       "   miles  gameUsed  iceCream     fitness\n",
       "0  40920  8.326976  0.953952  largeDoses"
      ]
     },
     "execution_count": 43,
     "metadata": {},
     "output_type": "execute_result"
    }
   ],
   "source": [
    "df = pd.read_table('/home/pytest/MLaction/Ch02_knn/datingTestSet.txt', \n",
    "                   sep='[ |\\t]', names=['miles','gameUsed','iceCream','fitness'], \n",
    "                   encoding='utf-8', engine='python')\n",
    "df[0:1]"
   ]
  },
  {
   "cell_type": "markdown",
   "metadata": {},
   "source": [
    "首先观察三个特征参数，对特征参数处理的目标是转化为绝对值大小相近的数值，根据这个目标，显然需要对miles和gameUsed两个字段进行标准化，将其值缩放到[-1,1]之间，变换后需要将原来的属性删除"
   ]
  },
  {
   "cell_type": "code",
   "execution_count": 44,
   "metadata": {},
   "outputs": [
    {
     "data": {
      "text/html": [
       "<div>\n",
       "<style scoped>\n",
       "    .dataframe tbody tr th:only-of-type {\n",
       "        vertical-align: middle;\n",
       "    }\n",
       "\n",
       "    .dataframe tbody tr th {\n",
       "        vertical-align: top;\n",
       "    }\n",
       "\n",
       "    .dataframe thead th {\n",
       "        text-align: right;\n",
       "    }\n",
       "</style>\n",
       "<table border=\"1\" class=\"dataframe\">\n",
       "  <thead>\n",
       "    <tr style=\"text-align: right;\">\n",
       "      <th></th>\n",
       "      <th>iceCream</th>\n",
       "      <th>fitness</th>\n",
       "      <th>miles_scaled</th>\n",
       "      <th>gameUsed_scaled</th>\n",
       "    </tr>\n",
       "  </thead>\n",
       "  <tbody>\n",
       "    <tr>\n",
       "      <th>0</th>\n",
       "      <td>0.953952</td>\n",
       "      <td>largeDoses</td>\n",
       "      <td>0.331932</td>\n",
       "      <td>0.416602</td>\n",
       "    </tr>\n",
       "  </tbody>\n",
       "</table>\n",
       "</div>"
      ],
      "text/plain": [
       "   iceCream     fitness  miles_scaled  gameUsed_scaled\n",
       "0  0.953952  largeDoses      0.331932         0.416602"
      ]
     },
     "execution_count": 44,
     "metadata": {},
     "output_type": "execute_result"
    }
   ],
   "source": [
    "import sklearn.preprocessing as preprocessing\n",
    "\n",
    "# 使用标准缩放器\n",
    "scaler = preprocessing.StandardScaler()\n",
    "\n",
    "# 生成全局缩放参数\n",
    "miles_scale_param = scaler.fit(df['miles'].values.reshape(-1,1))\n",
    "# 根据缩放参数生成相应的新属性\n",
    "df['miles_scaled'] = scaler.fit_transform(df['miles'].values.reshape(-1,1), miles_scale_param)\n",
    "\n",
    "gameUsed_scale_param = scaler.fit(df['gameUsed'].values.reshape(-1,1))\n",
    "df['gameUsed_scaled'] = scaler.fit_transform(df['gameUsed'].values.reshape(-1,1), gameUsed_scale_param)\n",
    "\n",
    "# 删除原来的属性\n",
    "df.drop(['miles', 'gameUsed'], axis=1, inplace=True)\n",
    "\n",
    "df[0:1]"
   ]
  },
  {
   "cell_type": "markdown",
   "metadata": {},
   "source": [
    "字段fitness的值是枚举值，需要将其转换为数字，采用序号编码方式进行转换"
   ]
  },
  {
   "cell_type": "code",
   "execution_count": 45,
   "metadata": {},
   "outputs": [
    {
     "data": {
      "text/html": [
       "<div>\n",
       "<style scoped>\n",
       "    .dataframe tbody tr th:only-of-type {\n",
       "        vertical-align: middle;\n",
       "    }\n",
       "\n",
       "    .dataframe tbody tr th {\n",
       "        vertical-align: top;\n",
       "    }\n",
       "\n",
       "    .dataframe thead th {\n",
       "        text-align: right;\n",
       "    }\n",
       "</style>\n",
       "<table border=\"1\" class=\"dataframe\">\n",
       "  <thead>\n",
       "    <tr style=\"text-align: right;\">\n",
       "      <th></th>\n",
       "      <th>iceCream</th>\n",
       "      <th>miles_scaled</th>\n",
       "      <th>gameUsed_scaled</th>\n",
       "      <th>fitness_transfer</th>\n",
       "    </tr>\n",
       "  </thead>\n",
       "  <tbody>\n",
       "    <tr>\n",
       "      <th>0</th>\n",
       "      <td>0.953952</td>\n",
       "      <td>0.331932</td>\n",
       "      <td>0.416602</td>\n",
       "      <td>1</td>\n",
       "    </tr>\n",
       "  </tbody>\n",
       "</table>\n",
       "</div>"
      ],
      "text/plain": [
       "   iceCream  miles_scaled  gameUsed_scaled  fitness_transfer\n",
       "0  0.953952      0.331932         0.416602                 1"
      ]
     },
     "execution_count": 45,
     "metadata": {},
     "output_type": "execute_result"
    }
   ],
   "source": [
    "df['fitness_transfer'] = pd.Categorical(df['fitness']).codes\n",
    "df.drop(['fitness'], axis=1, inplace=True)\n",
    "df[0:1]"
   ]
  },
  {
   "cell_type": "markdown",
   "metadata": {},
   "source": [
    "定义一个KNN分类函数，参数分别为特征属性集合和标签集合，返回训练好的KNN模型"
   ]
  },
  {
   "cell_type": "code",
   "execution_count": 46,
   "metadata": {},
   "outputs": [],
   "source": [
    "# KNN Classifier  \n",
    "def knn_classifier(train_x, train_y):  \n",
    "    from sklearn.neighbors import KNeighborsClassifier  \n",
    "    model = KNeighborsClassifier()  \n",
    "    model.fit(train_x, train_y)  \n",
    "    return model"
   ]
  },
  {
   "cell_type": "markdown",
   "metadata": {},
   "source": [
    "需要将原来的数据集合分割为训练集和测试集，按8:2进行切分，80%为训练集，20%为测试集\n",
    "\n",
    "同时还需要将数据集合按列分割为属性集合和标签集合"
   ]
  },
  {
   "cell_type": "code",
   "execution_count": 49,
   "metadata": {},
   "outputs": [],
   "source": [
    "from sklearn import cross_validation\n",
    "\n",
    "# 训练集和测试集切分\n",
    "train, test = cross_validation.train_test_split(df, test_size=0.2)\n",
    "\n",
    "# 属性集合和标签集合切分\n",
    "train_x = train.as_matrix()[:,:-1]\n",
    "train_y = train.as_matrix()[:,-1]\n",
    "\n",
    "test_x = test.as_matrix()[:,:-1]\n",
    "test_y = test.as_matrix()[:,-1]"
   ]
  },
  {
   "cell_type": "markdown",
   "metadata": {},
   "source": [
    "主程序代码，首先根据训练集得到KNN模型，然后利用该模型对测试集进行预测，并计算预测结果的准确率。"
   ]
  },
  {
   "cell_type": "code",
   "execution_count": 50,
   "metadata": {},
   "outputs": [
    {
     "name": "stdout",
     "output_type": "stream",
     "text": [
      "******************** Data Info *********************\n",
      "#training data: 800, #testing_data: 200, dimension: 3\n",
      "training took 0.001061s!\n",
      "accuracy: 96.00%\n"
     ]
    }
   ],
   "source": [
    "import numpy as np\n",
    "import time\n",
    "from sklearn import metrics\n",
    "\n",
    "num_train, num_feat = train_x.shape  \n",
    "num_test, num_feat = test_x.shape\n",
    "\n",
    "# 判断标签是否为0-1标签\n",
    "is_binary_class = (len(np.unique(train_y)) == 2)\n",
    "\n",
    "print '******************** Data Info *********************'  \n",
    "print '#training data: %d, #testing_data: %d, dimension: %d' % (num_train, num_test, num_feat)  \n",
    "      \n",
    "start_time = time.time()\n",
    "model = knn_classifier(train_x, train_y)  \n",
    "print 'training took %fs!' % (time.time() - start_time)  \n",
    "\n",
    "predict = model.predict(test_x)  \n",
    "\n",
    "# 对于0-1标签，可以计算其精确率和召回率\n",
    "if is_binary_class:  \n",
    "    precision = metrics.precision_score(test_y, predict)  \n",
    "    recall = metrics.recall_score(test_y, predict)  \n",
    "    print 'precision: %.2f%%, recall: %.2f%%' % (100 * precision, 100 * recall)\n",
    "    \n",
    "# 计算准确率\n",
    "accuracy = metrics.accuracy_score(test_y, predict)  \n",
    "print 'accuracy: %.2f%%' % (100 * accuracy)"
   ]
  },
  {
   "cell_type": "code",
   "execution_count": null,
   "metadata": {},
   "outputs": [],
   "source": []
  }
 ],
 "metadata": {
  "kernelspec": {
   "display_name": "Python 2",
   "language": "python",
   "name": "python2"
  },
  "language_info": {
   "codemirror_mode": {
    "name": "ipython",
    "version": 2
   },
   "file_extension": ".py",
   "mimetype": "text/x-python",
   "name": "python",
   "nbconvert_exporter": "python",
   "pygments_lexer": "ipython2",
   "version": "2.7.14"
  },
  "toc": {
   "base_numbering": 1,
   "nav_menu": {},
   "number_sections": true,
   "sideBar": true,
   "skip_h1_title": false,
   "title_cell": "Table of Contents",
   "title_sidebar": "Contents",
   "toc_cell": false,
   "toc_position": {},
   "toc_section_display": true,
   "toc_window_display": false
  }
 },
 "nbformat": 4,
 "nbformat_minor": 2
}
